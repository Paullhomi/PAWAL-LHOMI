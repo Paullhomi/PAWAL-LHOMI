{
 "cells": [
  {
   "cell_type": "markdown",
   "metadata": {},
   "source": [
    "# FUNCTION "
   ]
  },
  {
   "cell_type": "markdown",
   "metadata": {},
   "source": [
    "1. Factorial Function: Write a function factorial(n) that returns the factorial of a number using a for loop"
   ]
  },
  {
   "cell_type": "code",
   "execution_count": 1,
   "metadata": {},
   "outputs": [
    {
     "name": "stdout",
     "output_type": "stream",
     "text": [
      "Input: 65\n",
      "Output: 8247650592082470666723170306785496252186258551345437492922123134388955774976000000000000000\n"
     ]
    }
   ],
   "source": [
    "n = int(input(\"Enter number: \"))\n",
    "print(f\"Input: {n}\")\n",
    "\n",
    "def factorial(n):\n",
    "    fact = 1\n",
    "    for i in range(1 , n +1):\n",
    "        fact *= i\n",
    "    return fact\n",
    "\n",
    "print(f\"Output: {factorial(n)}\")"
   ]
  },
  {
   "cell_type": "markdown",
   "metadata": {},
   "source": [
    "2. Prime Check Function: Create a function is_prime(n) to check whether a number is prime.\n",
    "Example:\n",
    "○ Input: 7\n",
    "○ Output: True"
   ]
  },
  {
   "cell_type": "code",
   "execution_count": 2,
   "metadata": {},
   "outputs": [
    {
     "name": "stdout",
     "output_type": "stream",
     "text": [
      "Input: 888\n",
      "Output:is_prime(n)\n"
     ]
    }
   ],
   "source": [
    "def is_prime(n):\n",
    "    if n <= 1:\n",
    "        return False\n",
    "    for i in range(2 , int(n ** 0.5) + 1): \n",
    "        if n % i == 0:\n",
    "            return False\n",
    "    return True\n",
    "\n",
    "n = int(input(\"Number: \"))\n",
    "print(f\"Input: {n}\")\n",
    "print(f\"Output:is_prime(n)\")"
   ]
  },
  {
   "cell_type": "markdown",
   "metadata": {},
   "source": [
    "3. Find Maximum in List:Write a function find_max(lst) to find and return the maximum value in a list.\n",
    "Example:\n",
    "○ Input: [1, 3, 7, 0]\n",
    "○ Output: 7"
   ]
  },
  {
   "cell_type": "code",
   "execution_count": 4,
   "metadata": {},
   "outputs": [
    {
     "name": "stdout",
     "output_type": "stream",
     "text": [
      "Input: [1, 2, 5, 7]\n",
      "Output: 7\n"
     ]
    }
   ],
   "source": [
    "lst_numb = input(\"Enter the number and add  space to separeate\")\n",
    "lst = [int(num) for num in lst_numb.split()]\n",
    "print(f\"Input: {lst}\")\n",
    "\n",
    "def find_max(lst):\n",
    "    if not lst:\n",
    "        return None\n",
    "    \n",
    "    max_numb = lst[0]\n",
    "\n",
    "    for num in lst:\n",
    "        if num > max_numb:\n",
    "            max_numb = num\n",
    "    return max_numb\n",
    "\n",
    "\n",
    "\n",
    "print(f\"Output: {find_max(lst)}\")"
   ]
  },
  {
   "cell_type": "markdown",
   "metadata": {},
   "source": [
    "4. Write a function palindrome_check(string) that returns True if the given string is a palindrome, otherwise False.\n",
    "Example: Input = \"radar\", Output = True"
   ]
  },
  {
   "cell_type": "code",
   "execution_count": 5,
   "metadata": {},
   "outputs": [
    {
     "name": "stdout",
     "output_type": "stream",
     "text": [
      "Input: 3232\n",
      "Output: False\n"
     ]
    }
   ],
   "source": [
    "string = input(\"Enter a string\").lower()  # lower convert the capital letter in smaller one  e.g. Radar --> radar\n",
    "print(f\"Input: {string}\")\n",
    "\n",
    "def palindrome_check(String):\n",
    "\n",
    "    reverse_string = \"\"\n",
    "    for char in string:\n",
    "        reverse_string = char + reverse_string\n",
    "    if reverse_string == string:\n",
    "        return True\n",
    "    else:\n",
    "        return False\n",
    "    \n",
    "reverse = palindrome_check(string)\n",
    "print(f\"Output: {reverse}\")"
   ]
  },
  {
   "cell_type": "markdown",
   "metadata": {},
   "source": [
    "5. Write a function sum_of_squares(n) that returns the sum of squares of the first n natural numbers.\n",
    "Example: Input = 3, Output = 1^2 + 2^2 + 3^2 = 14\n"
   ]
  },
  {
   "cell_type": "code",
   "execution_count": 6,
   "metadata": {},
   "outputs": [
    {
     "name": "stdout",
     "output_type": "stream",
     "text": [
      "Input: 666677\n",
      "Output: 98770246991765855\n"
     ]
    }
   ],
   "source": [
    "n = int(input(\"Enter the number: \"))\n",
    "print(f\"Input: {n}\")\n",
    "def sum_of_squares(n):\n",
    "    if n < 1:\n",
    "        return 'Input must be positive number'\n",
    "    sum = 0\n",
    "    for i in range(1 , n + 1):\n",
    "        sum += i ** 2\n",
    "    return sum\n",
    "total = sum_of_squares(n)\n",
    "print(f\"Output: {total}\") "
   ]
  },
  {
   "cell_type": "markdown",
   "metadata": {},
   "source": [
    "6. Write a function sum_of_cube(n) that returns the sum of squares of the first n natural numbers.\n",
    "Example: Input = 3, Output = 1^3 + 2^3 + 3^3 = 36\n"
   ]
  },
  {
   "cell_type": "code",
   "execution_count": 7,
   "metadata": {},
   "outputs": [
    {
     "name": "stdout",
     "output_type": "stream",
     "text": [
      "Input: 66363\n",
      "Output: 4849055321920528356\n"
     ]
    }
   ],
   "source": [
    "n = int(input(\"Enter the Number: \"))\n",
    "print(f\"Input: {n}\")\n",
    "def sum_of_cube(n):\n",
    "    if n < 1:\n",
    "        return \"Enter the positive number!\"\n",
    "    sum = 0\n",
    "    for i in range (1 , n + 1):\n",
    "        sum += i ** 3\n",
    "    return sum\n",
    "total = sum_of_cube(n)\n",
    "\n",
    "print(f\"Output: {total}\")"
   ]
  }
 ],
 "metadata": {
  "kernelspec": {
   "display_name": "Python 3",
   "language": "python",
   "name": "python3"
  },
  "language_info": {
   "codemirror_mode": {
    "name": "ipython",
    "version": 3
   },
   "file_extension": ".py",
   "mimetype": "text/x-python",
   "name": "python",
   "nbconvert_exporter": "python",
   "pygments_lexer": "ipython3",
   "version": "3.13.1"
  }
 },
 "nbformat": 4,
 "nbformat_minor": 2
}
