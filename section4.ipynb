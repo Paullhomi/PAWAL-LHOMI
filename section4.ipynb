{
 "cells": [
  {
   "cell_type": "markdown",
   "metadata": {},
   "source": [
    "# CLASSSES"
   ]
  },
  {
   "cell_type": "markdown",
   "metadata": {},
   "source": [
    "1. Rectangle Class:Define a class Rectangle with:\n",
    "○ Two attributes: length and width.\n",
    "○ A method area() to calculate the area.\n",
    "○ A method perimeter() to calculate the perimeter.\n"
   ]
  },
  {
   "cell_type": "code",
   "execution_count": 1,
   "metadata": {},
   "outputs": [
    {
     "name": "stdout",
     "output_type": "stream",
     "text": [
      "Area: 36\n",
      "Perimeter: 24\n"
     ]
    }
   ],
   "source": [
    "class Rectangle:\n",
    "    def __init__(self , length , width):\n",
    "        self.length = length\n",
    "        self.width = width\n",
    "    \n",
    "    def area(self):\n",
    "        return self.length * self.width\n",
    "    \n",
    "    def perimeter(self):\n",
    "        return 2 * (self.length + self.width)\n",
    "    \n",
    "\n",
    "rect = Rectangle(6 , 6)\n",
    "\n",
    "print(f\"Area: {rect.area()}\")\n",
    "print(f\"Perimeter: {rect.perimeter()}\")    "
   ]
  },
  {
   "cell_type": "markdown",
   "metadata": {},
   "source": [
    "2. Student Class: Create a class Student with:\n",
    "○ Attributes: name, roll_number, and marks.\n",
    "○ A method display_details() to print the student's details.\n",
    "○ A method is_passed() that returns True if marks ≥ 40, else\n",
    "False."
   ]
  },
  {
   "cell_type": "code",
   "execution_count": 2,
   "metadata": {},
   "outputs": [
    {
     "name": "stdout",
     "output_type": "stream",
     "text": [
      "Name: lhomi\n",
      "Roll Number: 2394\n",
      "Mark: 808\n",
      "Passed: True\n",
      "--------------------------------------------\n",
      "Name: pawal\n",
      "Roll Number: 165\n",
      "Mark: 88\n",
      "Passed: True\n"
     ]
    }
   ],
   "source": [
    "class Student:\n",
    "    def __init__(self , name , roll_number , mark):\n",
    "        self.name = name\n",
    "        self.roll_number = roll_number\n",
    "        self.mark = mark\n",
    "\n",
    "    def display_detials(self):\n",
    "        print(f\"Name: {self.name}\\nRoll Number: {self.roll_number}\\nMark: {self.mark}\")\n",
    "\n",
    "    def is_passed(self):\n",
    "        return self.mark >= 40\n",
    "\n",
    "std1 = Student(\"lhomi\" , 2394 , 808)\n",
    "std1.display_detials()\n",
    "print(\"Passed:\",std1.is_passed())\n",
    "\n",
    "print(\"--------------------------------------------\")\n",
    "\n",
    "std2 = Student(\"pawal\" , 165 , 88)\n",
    "std2.display_detials()\n",
    "print(\"Passed:\",std2.is_passed())"
   ]
  },
  {
   "cell_type": "markdown",
   "metadata": {},
   "source": [
    "3. Define a class Circle with:\n",
    "● Attribute: radius.\n",
    "● Methods: area() to calculate the area, circumference() to\n",
    "calculate the circumference."
   ]
  },
  {
   "cell_type": "code",
   "execution_count": 3,
   "metadata": {},
   "outputs": [
    {
     "name": "stdout",
     "output_type": "stream",
     "text": [
      "Area: 113.10\n",
      "Circumference: 37.70\n",
      "---------------------------\n",
      "Area: 28.27\n",
      "Circumference: 18.85\n"
     ]
    }
   ],
   "source": [
    "import math\n",
    "\n",
    "class Circle:\n",
    "    def __init__(self, radius):\n",
    "        self.radius = radius\n",
    "\n",
    "    def area(self):\n",
    "        return math.pi * self.radius ** 2\n",
    "    \n",
    "    def circumderence(self):\n",
    "        return 2 * math.pi * self.radius\n",
    "    \n",
    "\n",
    "cir = Circle(6)\n",
    "print(f\"Area: {cir.area():.2f}\")\n",
    "print(f\"Circumference: {cir.circumderence():.2f}\")\n",
    "\n",
    "print(\"---------------------------\")\n",
    "\n",
    "cir1 = Circle(3)\n",
    "print(f\"Area: {cir1.area():.2f}\")\n",
    "print(f\"Circumference: {cir1.circumderence():.2f}\")\n"
   ]
  },
  {
   "cell_type": "markdown",
   "metadata": {},
   "source": [
    "4. Create a class BankAccount with:\n",
    "● Attributes: account_number, account_holder, balance.\n",
    "● Methods:\n",
    "○ deposit(amount) to add money to the account.\n",
    "○ withdraw(amount) to subtract money (if sufficient\n",
    "balance is available).\n",
    "○ display_balance() to print the current balance.\n"
   ]
  },
  {
   "cell_type": "code",
   "execution_count": 6,
   "metadata": {},
   "outputs": [
    {
     "name": "stdout",
     "output_type": "stream",
     "text": [
      "Deposit Balance:Rs765, New Balance:Rs1765 \n",
      "Withdraw Balance:Rs99, New Balance:Rs1666 \n",
      "Current Balance: 1666\n"
     ]
    }
   ],
   "source": [
    "class BankAccount:\n",
    "\n",
    "    def __init__(self, account_number , account_holder , balance):\n",
    "        self.account_number = account_number\n",
    "        self.account_holder = account_holder\n",
    "        self.balance = balance\n",
    "\n",
    "    def deposit(self , amount):\n",
    "        self.balance += amount\n",
    "        print(f\"Deposit Balance:Rs{amount}, New Balance:Rs{self.balance} \")\n",
    "    \n",
    "    def withdraw(self , amount):\n",
    "        if amount > self.balance:\n",
    "            return 'Insufficient Balance.'\n",
    "        else:\n",
    "            self.balance -= amount\n",
    "            print(f\"Withdraw Balance:Rs{amount}, New Balance:Rs{self.balance} \")\n",
    "        \n",
    "    def display_balance(self):\n",
    "        print(f\"Current Balance: {self.balance}\")\n",
    "    \n",
    "\n",
    "account = BankAccount(5034 , \"lhomi\" , 1000)\n",
    "account.deposit(765)\n",
    "account.withdraw(99)\n",
    "account.display_balance()"
   ]
  },
  {
   "cell_type": "markdown",
   "metadata": {},
   "source": [
    "5. A class Book with:\n",
    "● Attributes: title, author, price.\n",
    "● Methods:\n",
    "○ apply_discount(discount) to reduce the price by a\n",
    "given percentage.\n",
    "○ display_details() to print the book details.\n"
   ]
  },
  {
   "cell_type": "code",
   "execution_count": 9,
   "metadata": {},
   "outputs": [
    {
     "name": "stdout",
     "output_type": "stream",
     "text": [
      "Book Title: how to get rich in 1 min\n",
      "Book Author: panlo coelno\n",
      "Book Price: Rs82020.0\n"
     ]
    }
   ],
   "source": [
    "class Book:\n",
    "    def __init__(self, author , title , price):\n",
    "        self.author = author\n",
    "        self.title = title\n",
    "        self.price = price\n",
    "\n",
    "    def apply_discount(self , discount):\n",
    "        if 0 <= discount <= 100:\n",
    "            self.price -= (discount / 100) * self.price\n",
    "            return self.price\n",
    "        else:\n",
    "            print(\"Invalid Discound percentage. please provide a value between 0 to 100\")\n",
    "\n",
    "    def display_details(self):\n",
    "        print(f\"Book Title: {self.title}\\nBook Author: {self.author}\\nBook Price: Rs{self.price}\") \n",
    "\n",
    "book1 = Book(\"panlo coelno\" , \"how to get rich in 1 min\" , 100000)\n",
    "book1.apply_discount(17.98)\n",
    "book1.display_details()"
   ]
  },
  {
   "cell_type": "markdown",
   "metadata": {},
   "source": [
    "6. Create a class Calculator with:\n",
    "○ A method add(a, b) to add two numbers.\n",
    "○ A method subtract(a, b) to subtract two numbers.\n",
    "○ A method multiply(a, b) to multiply two numbers.\n",
    "○ A method divide(a, b) to divide two numbers (handle division\n",
    "by zero gracefully).\n"
   ]
  },
  {
   "cell_type": "markdown",
   "metadata": {},
   "source": [
    "6. Create a class Calculator with:\n",
    "○ A method add(a, b) to add two numbers.\n",
    "○ A method subtract(a, b) to subtract two numbers.\n",
    "○ A method multiply(a, b) to multiply two numbers.\n",
    "○ A method divide(a, b) to divide two numbers (handle division\n",
    "by zero gracefully).\n"
   ]
  },
  {
   "cell_type": "code",
   "execution_count": 11,
   "metadata": {},
   "outputs": [
    {
     "name": "stdout",
     "output_type": "stream",
     "text": [
      "Add: 181\n",
      "Subtrace: 154\n",
      "Multiply: 900\n",
      "Divide: 11.11111111111111\n"
     ]
    }
   ],
   "source": [
    "class Calculator:\n",
    "     \n",
    "    def add(self , a , b):\n",
    "        return a  + b\n",
    "    \n",
    "    def subtract(self , a , b):\n",
    "        return a  - b\n",
    "    \n",
    "    def multiply(self , a , b):\n",
    "        return a  * b\n",
    "    \n",
    "    def divide(self , a , b):\n",
    "        if b != 0:\n",
    "            return a  / b\n",
    "        \n",
    "        return\"Division by Zero is not allowed\"\n",
    "\n",
    "cal = Calculator()\n",
    "print(f\"Add: {cal.add(176 , 5)}\")\n",
    "print(f\"Subtrace: {cal.subtract(160 , 6)}\")\n",
    "print(f\"Multiply: {cal.multiply( 180 ,5)}\")\n",
    "print(f\"Divide: {cal.divide(100 ,9)}\")"
   ]
  },
  {
   "cell_type": "markdown",
   "metadata": {},
   "source": [
    "7. Write a class Person with:\n",
    "○ Attributes: name, age, gender.\n",
    "○ Method introduce() to print a message like: \"Hello, my name\n",
    "is [name], I am [age] years old, and I am a [gender].\"\n",
    "○ Create a subclass Employee that adds:\n",
    "■ Attribute: job_title.\n",
    "■ Override introduce() to include the job title."
   ]
  },
  {
   "cell_type": "code",
   "execution_count": 13,
   "metadata": {},
   "outputs": [
    {
     "name": "stdout",
     "output_type": "stream",
     "text": [
      "Hello, my name is pawal, I am 98 years old, and I am a Male.\n",
      "------------------------------------------------------------------------------\n",
      "Hello, my name is Lhomi, I am 78 years old, I am a Male, and I work as doctor\n"
     ]
    }
   ],
   "source": [
    "class Person:\n",
    "    def __init__(self, name  , age  , gender ):\n",
    "        self.name = name\n",
    "        self.age = age\n",
    "        self.gender = gender\n",
    "\n",
    "    def introduce(self):\n",
    "        print(f\"Hello, my name is {self.name}, I am {self.age} years old, and I am a {self.gender}.\")\n",
    "\n",
    "class Employee(Person):\n",
    "\n",
    "    def __init__(self ,name :str , age  , gender , job_title ):\n",
    "        super().__init__(name , age, gender ) \n",
    "        self.job_title = job_title\n",
    "\n",
    "    def introduce(self):\n",
    "        print(f\"Hello, my name is {self.name}, I am {self.age} years old, I am a {self.gender}, and I work as {self.job_title}\")\n",
    "\n",
    "person1 = Person(\"pawal\" , 98 , \"Male\")\n",
    "person1.introduce()\n",
    "\n",
    "print(\"------------------------------------------------------------------------------\")\n",
    "\n",
    "employee1 = Employee(\"Lhomi\" , 78 , \"Male\" , \"doctor\")\n",
    "employee1.introduce()\n",
    "        \n",
    "\n",
    "    "
   ]
  }
 ],
 "metadata": {
  "kernelspec": {
   "display_name": "Python 3",
   "language": "python",
   "name": "python3"
  },
  "language_info": {
   "codemirror_mode": {
    "name": "ipython",
    "version": 3
   },
   "file_extension": ".py",
   "mimetype": "text/x-python",
   "name": "python",
   "nbconvert_exporter": "python",
   "pygments_lexer": "ipython3",
   "version": "3.13.1"
  }
 },
 "nbformat": 4,
 "nbformat_minor": 2
}
