{
 "cells": [
  {
   "cell_type": "markdown",
   "metadata": {},
   "source": [
    "# CONDITIONAL STATEMENT "
   ]
  },
  {
   "cell_type": "markdown",
   "metadata": {},
   "source": [
    "11. Write a program that asks the user to enter a number and checks whether the number is even or odd.\n"
   ]
  },
  {
   "cell_type": "code",
   "execution_count": 1,
   "metadata": {},
   "outputs": [
    {
     "name": "stdout",
     "output_type": "stream",
     "text": [
      "The given number 5666 is even\n"
     ]
    }
   ],
   "source": [
    "number = int(input(\"Enter any positive number: \"))\n",
    "\n",
    "if number % 2 != 0:\n",
    "    print(f\"The given number {number} is odd\")\n",
    "else:\n",
    "    print(f\"The given number {number} is even\")"
   ]
  },
  {
   "cell_type": "markdown",
   "metadata": {},
   "source": [
    "2. Write a program that asks the user to enter a number and checks whether it is positive, negative, or zero.\n"
   ]
  },
  {
   "cell_type": "code",
   "execution_count": 2,
   "metadata": {},
   "outputs": [
    {
     "name": "stdout",
     "output_type": "stream",
     "text": [
      "The given number 5555 is positive.\n"
     ]
    }
   ],
   "source": [
    "number = int(input(\"Enter any number: \"))\n",
    "\n",
    "if number == 0:\n",
    "    print(\"The given number is Zero.\")\n",
    "elif number < 0:\n",
    "    print(f\"The given number {number} is Nagative.\")\n",
    "else:\n",
    "    print(f\"The given number {number} is positive.\")"
   ]
  },
  {
   "cell_type": "markdown",
   "metadata": {},
   "source": [
    "3. Write a program that asks the user to enter their age and checks if they are eligible to vote (18 years or older).\n"
   ]
  },
  {
   "cell_type": "code",
   "execution_count": 3,
   "metadata": {},
   "outputs": [
    {
     "name": "stdout",
     "output_type": "stream",
     "text": [
      "You are eligible to vote\n"
     ]
    }
   ],
   "source": [
    "user_age = int(input(\"Enter your age\"))\n",
    "if user_age >= 18:\n",
    "    print(\"You are eligible to vote\")\n",
    "else:\n",
    "    print(f\"You have to wait {18 - user_age} years then you will be eligible to vote\")"
   ]
  },
  {
   "cell_type": "markdown",
   "metadata": {},
   "source": [
    "4. Write a program that takes the lengths of three sides of a triangle as input and determines if the triangle is:\n",
    "    ○ Equilateral (all sides are equal)\n",
    "    ○ Isosceles (two sides are equal)\n",
    "    ○ Scalene (all sides are different)\n"
   ]
  },
  {
   "cell_type": "code",
   "execution_count": 4,
   "metadata": {},
   "outputs": [
    {
     "name": "stdout",
     "output_type": "stream",
     "text": [
      "Isosceles Triangle\n"
     ]
    }
   ],
   "source": [
    "x = int(input(\"Enter the length of 1st sides of triangle\"))\n",
    "y = int(input(\"Enter the length of 2nd sides of triangle\"))\n",
    "z = int(input(\"Enter the length of 3rd sides of triangle\"))\n",
    "\n",
    "if x + y > z and y + z > x and z  + x > y:\n",
    "    if x == y == z :\n",
    "        print(\"Equilateral Triangle\")\n",
    "    elif x == y or x == z or y == z:\n",
    "        print(\"Isosceles Triangle\")\n",
    "    else:\n",
    "        print(\"Scalene Triange\")\n",
    " \n",
    "else:\n",
    "    print(\"Not a valid Triangle\")"
   ]
  },
  {
   "cell_type": "markdown",
   "metadata": {},
   "source": [
    "5. Write a program that asks the user to enter a password and checks if it matches a predefined password (e.g., \"Python123\").\n"
   ]
  },
  {
   "cell_type": "code",
   "execution_count": 5,
   "metadata": {},
   "outputs": [
    {
     "name": "stdout",
     "output_type": "stream",
     "text": [
      " Password Not Matched\n"
     ]
    }
   ],
   "source": [
    "right_password = \"pawall222\"\n",
    "\n",
    "user_password = input(\"Enter a password: \")\n",
    "\n",
    "\n",
    "\n",
    "if right_password  == user_password:\n",
    "    print(\"Password Matched\")\n",
    "else:\n",
    "    print(\" Password Not Matched\")"
   ]
  }
 ],
 "metadata": {
  "kernelspec": {
   "display_name": "Python 3",
   "language": "python",
   "name": "python3"
  },
  "language_info": {
   "codemirror_mode": {
    "name": "ipython",
    "version": 3
   },
   "file_extension": ".py",
   "mimetype": "text/x-python",
   "name": "python",
   "nbconvert_exporter": "python",
   "pygments_lexer": "ipython3",
   "version": "3.13.1"
  }
 },
 "nbformat": 4,
 "nbformat_minor": 2
}
